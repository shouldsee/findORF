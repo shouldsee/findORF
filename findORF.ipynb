{
 "cells": [
  {
   "cell_type": "code",
   "execution_count": 10,
   "metadata": {
    "scrolled": true
   },
   "outputs": [],
   "source": [
    "import Bio.SeqIO\n",
    "import requests"
   ]
  },
  {
   "cell_type": "code",
   "execution_count": 14,
   "metadata": {},
   "outputs": [],
   "source": [
    "url = \"http://flybase.org/cgi-bin/getseq.html?source=dmel&id=FBgn0004666&chr=3R&dump=PrecompiledFasta&targetset=exon\"\n",
    "r = requests.get( url )\n",
    "# r.response\n",
    "# ?r\n",
    "buf = r.text.splitlines()"
   ]
  },
  {
   "cell_type": "code",
   "execution_count": 284,
   "metadata": {},
   "outputs": [],
   "source": [
    "url = \"http://flybase.org/cgi-bin/getseq.html?source=dmel&id=FBgn0004666&chr=3R&dump=PrecompiledFasta&targetset=exon\"\n",
    "import Bio.SeqIO\n",
    "import urllib\n",
    "# with urllib.urlopen(url) as response:\n",
    "response = urllib.urlopen(url)\n",
    "fas = [x for x in Bio.SeqIO.parse(response,'fasta')]\n",
    "f_ind = lambda seq: int( seq.id.split(':')[-1])\n",
    "fas0 = sorted(fas, key= f_ind)\n",
    "#     html = response.read()\n"
   ]
  },
  {
   "cell_type": "code",
   "execution_count": 32,
   "metadata": {},
   "outputs": [],
   "source": [
    "# f_start = lambda seq: seq.loc.split(':')[-1].split('..')\n",
    "f_ind = lambda seq: int( seq.id.split(':')[-1])\n",
    "fas0 = sorted(fas, key= f_ind)\n",
    "# fas[0]"
   ]
  },
  {
   "cell_type": "code",
   "execution_count": 77,
   "metadata": {},
   "outputs": [],
   "source": [
    "# regex.findall()\n",
    "import re\n",
    "s = str(fas[0].seq)\n",
    "# help(s)\n",
    "# res  = re.search( re.compile(\"TAG\"), s)#\n",
    "res  = re.match( \"TAG\", s)"
   ]
  },
  {
   "cell_type": "code",
   "execution_count": 102,
   "metadata": {},
   "outputs": [],
   "source": [
    "import re\n",
    "p =  re.compile(\"TAG\")"
   ]
  },
  {
   "cell_type": "code",
   "execution_count": 85,
   "metadata": {},
   "outputs": [
    {
     "data": {
      "text/plain": [
       "{}"
      ]
     },
     "execution_count": 85,
     "metadata": {},
     "output_type": "execute_result"
    }
   ],
   "source": [
    "p.match(s).groupdict()"
   ]
  },
  {
   "cell_type": "code",
   "execution_count": 86,
   "metadata": {},
   "outputs": [
    {
     "data": {
      "text/plain": [
       "'TAGTCACTCATTCGCTCGCCGCCCGCTCGCTGGTTCAGCTGCGCGTCCACGCCGTCTGTCCTTATATACATATATGTATATTACCGATATATATAATATCCATACACATATATCCCAGTTTGGATAATTTTCTCGCTGTGCCTACAAGTGTTAAATAATATATATAAATATATAAAAATATCTGTGTGCATTAGAAATAAGTCAAGAATTCTAGCAAGCAAATTGCCCAAGTGCCATAAACGCAATCGCATAATACCCGTTAACGGGCTCATTAGGAAAACCTTTTCCGGCAAAAACACAAAACTCGCTCGGCCGCAACACACATTTAAGTTTATTTATTTTAAAACCATCGACTTAAAGCAAAAATGTGCTAGCAGTTAAGGCGACAATTTAGTTTGATTCTCTCGGTGAACGGAGCTTTCCTATTGGGATTTATCGACGGTGGCCCAACTGCAAGAATACCAGCGGCAAAACGGATAGCTGCCAGAG'"
      ]
     },
     "execution_count": 86,
     "metadata": {},
     "output_type": "execute_result"
    }
   ],
   "source": [
    "s"
   ]
  },
  {
   "cell_type": "code",
   "execution_count": 73,
   "metadata": {},
   "outputs": [
    {
     "data": {
      "text/plain": [
       "{}"
      ]
     },
     "execution_count": 73,
     "metadata": {},
     "output_type": "execute_result"
    }
   ],
   "source": [
    "# help(res)\n",
    "# res.lastindex()\n",
    "res.groupdict()\n",
    "# res"
   ]
  },
  {
   "cell_type": "code",
   "execution_count": 34,
   "metadata": {},
   "outputs": [
    {
     "data": {
      "text/plain": [
       "[SeqRecord(seq=Seq('TAGTCACTCATTCGCTCGCCGCCCGCTCGCTGGTTCAGCTGCGCGTCCACGCCG...GAG', SingleLetterAlphabet()), id='FBgn0004666:1', name='FBgn0004666:1', description='FBgn0004666:1 type=exon; loc=3R:13057755..13058243; parent=FBgn0004666,FBtr0082711,FBtr0334614; MD5=11e7e7dfbf81129056e38c394728cf5e; release=r6.17; species=Dmel; length=489;', dbxrefs=[]),\n",
       " SeqRecord(seq=Seq('AGTGTTGGATCAAGTCGCACTGCACCCAGTGACCAAGTCGTCGTCGTCGTTGTA...AAA', SingleLetterAlphabet()), id='FBgn0004666:2', name='FBgn0004666:2', description='FBgn0004666:2 type=exon; loc=3R:13062522..13062730; parent=FBgn0004666,FBtr0334613; MD5=3c91cf3f661220346ba19626c7d877fa; release=r6.17; species=Dmel; length=209;', dbxrefs=[]),\n",
       " SeqRecord(seq=Seq('GGCTCAGTTGCAAACAGGTGATTGCAGGGATATGAGCAAGTGCTGAGAAGGTGC...ATG', SingleLetterAlphabet()), id='FBgn0004666:3', name='FBgn0004666:3', description='FBgn0004666:3 type=exon; loc=3R:13072399..13072550; parent=FBgn0004666,FBtr0082710; MD5=ab0b8578bd622434d153738549192fac; release=r6.17; species=Dmel; length=152;', dbxrefs=[]),\n",
       " SeqRecord(seq=Seq('ATATAGCCAAAACGTGTGCCATGAAGGAGAAAAGCAAAAATGCGGCACGCACGC...ATG', SingleLetterAlphabet()), id='FBgn0004666:4', name='FBgn0004666:4', description='FBgn0004666:4 type=exon; loc=3R:13072662..13072856; parent=FBgn0004666,FBtr0082710,FBtr0082711,FBtr0334613,FBtr0334614; MD5=4f40cdd2932be287561f124798dc9862; release=r6.17; species=Dmel; length=195;', dbxrefs=[]),\n",
       " SeqRecord(seq=Seq('GTCTTGGCGAAGCCTGGGGCTCATCGCCTGCCATGCAACGCGGCGCCACCATCA...CAG', SingleLetterAlphabet()), id='FBgn0004666:5', name='FBgn0004666:5', description='FBgn0004666:5 type=exon; loc=3R:13074080..13074249; parent=FBgn0004666,FBtr0082710,FBtr0082711,FBtr0334613,FBtr0334614; MD5=7728dae1870e44bf322fb547230a0c77; release=r6.17; species=Dmel; length=170;', dbxrefs=[]),\n",
       " SeqRecord(seq=Seq('GTTGAGCTGACGGGCAACTCGATATTCGAGTACATACACAACTACGATCAGGAC...CCA', SingleLetterAlphabet()), id='FBgn0004666:6', name='FBgn0004666:6', description='FBgn0004666:6 type=exon; loc=3R:13074571..13074672; parent=FBgn0004666,FBtr0082710,FBtr0082711,FBtr0334613,FBtr0334614; MD5=314eeec6b3d80d1d595e0308169b4806; release=r6.17; species=Dmel; length=102;', dbxrefs=[]),\n",
       " SeqRecord(seq=Seq('GCCGCCTTTCTCAACTCCCTACAGCTCGCCCAGACGCACACGCCCATCGGCAGT...AAG', SingleLetterAlphabet()), id='FBgn0004666:7', name='FBgn0004666:7', description='FBgn0004666:7 type=exon; loc=3R:13074813..13075004; parent=FBgn0004666,FBtr0334614; MD5=7aa959163150f2066ed885d19b331526; release=r6.17; species=Dmel; length=192;', dbxrefs=[]),\n",
       " SeqRecord(seq=Seq('CTCGCCCAGACGCACACGCCCATCGGCAGTCCCAATGGCGTCCAGCATCCATCC...AAG', SingleLetterAlphabet()), id='FBgn0004666:8', name='FBgn0004666:8', description='FBgn0004666:8 type=exon; loc=3R:13074837..13075004; parent=FBgn0004666,FBtr0082710,FBtr0082711,FBtr0334613; MD5=f04266a3c4cf5248e04d6c43e06c10a6; release=r6.17; species=Dmel; length=168;', dbxrefs=[]),\n",
       " SeqRecord(seq=Seq('GTGATACACTGCTCCGGCTATCTGAAGGCTCGCATCTATCCCGATCGCGGGGAT...ACG', SingleLetterAlphabet()), id='FBgn0004666:9', name='FBgn0004666:9', description='FBgn0004666:9 type=exon; loc=3R:13075077..13075276; parent=FBgn0004666,FBtr0082710,FBtr0082711,FBtr0334613,FBtr0334614; MD5=d61b80f918b9372b5574c813aa10cb3c; release=r6.17; species=Dmel; length=200;', dbxrefs=[]),\n",
       " SeqRecord(seq=Seq('CGTATCGCAGCTAACAGGATACGAGCCGCAGGACCTCATCGAGAAGACCCTGTA...TCC', SingleLetterAlphabet()), id='FBgn0004666:10', name='FBgn0004666:10', description='FBgn0004666:10 type=exon; loc=3R:13076199..13076305; parent=FBgn0004666,FBtr0082710,FBtr0082711,FBtr0334613,FBtr0334614; MD5=c9c7ce973a778ade822b711bcbabfe82; release=r6.17; species=Dmel; length=107;', dbxrefs=[]),\n",
       " SeqRecord(seq=Seq('TGCTGTACAAAGGACAAGTGACCACCAAGTACTACCGCTTCCTCACCAAAGGCG...AAT', SingleLetterAlphabet()), id='FBgn0004666:11', name='FBgn0004666:11', description='FBgn0004666:11 type=exon; loc=3R:13076394..13078124; parent=FBgn0004666,FBtr0082710,FBtr0082711,FBtr0334613,FBtr0334614; MD5=b7afa2bb900016c60e72493d05b1bc06; release=r6.17; species=Dmel; length=1731;', dbxrefs=[])]"
      ]
     },
     "execution_count": 34,
     "metadata": {},
     "output_type": "execute_result"
    }
   ],
   "source": [
    "########## Report all possible variants from the  TSS  ########\n",
    "\n",
    "######################################################\n",
    "###  Find all stop codons in ###############\n",
    "######################################################\n",
    "######################################################\n",
    "fas"
   ]
  },
  {
   "cell_type": "code",
   "execution_count": 104,
   "metadata": {},
   "outputs": [
    {
     "data": {
      "text/plain": [
       "<callable-iterator at 0x7f95e5ca92d0>"
      ]
     },
     "execution_count": 104,
     "metadata": {},
     "output_type": "execute_result"
    }
   ],
   "source": [
    "# p = re.compile(\"ATG\")\n",
    "# p.finditer(s)"
   ]
  },
  {
   "cell_type": "code",
   "execution_count": 287,
   "metadata": {},
   "outputs": [
    {
     "name": "stdout",
     "output_type": "stream",
     "text": [
      "195\n",
      "[[114], [-1], [32, 125]]\n",
      "[-1, -1, -1]\n"
     ]
    }
   ],
   "source": [
    "# res = []\n",
    "import re\n",
    "import itertools\n",
    "\n",
    "kf = lambda x:x[1]\n",
    "def find_posframe( pt, s):\n",
    "# pt = pstop\n",
    "    d = {0: -1,1: -1,2: -1}\n",
    "    d = {0: [-1],1: [-1],2: [-1]}\n",
    "    pos = [ m.start() for m in pt.finditer( s)]\n",
    "    frame = [x % 3 for x in pos]\n",
    "    it = itertools.groupby(sorted(zip(pos,frame),key = kf),kf)\n",
    "    d.update({k: [obj[0] for obj in gp] for k,gp in it})\n",
    "#     d.update({k: min(obj[0] for obj in gp) for k,gp in it})\n",
    "    return [d[0],d[1],d[2]]\n",
    "\n",
    "def find_start(s):\n",
    "    d = {0: -1,1: -1,2: -1}\n",
    "    pos = [ m.start() for m in pt.finditer( s)]\n",
    "    frame = [x % 3 for x in pos]\n",
    "    \n",
    "\n",
    "# print d\n",
    "#         print next(gp)\n",
    "#     sorted(pos,frame)\n",
    "#     itertools.groupby()\n",
    "#     for \n",
    "#     return zip(pos,frame)\n",
    "# print find_posframe(\"TAA|TAG|TGA\",s).__len__()\n",
    "\n",
    "\n",
    "\n",
    "\n",
    "pstart = re.compile(\"ATG\")\n",
    "pstop  = re.compile(\"TAA|TAG|TGA\")\n",
    "# print find_posframe(pstop,s)\n",
    "# class segment( Bio.SeqRecord.SeqRecord):\n",
    "class segment(object):\n",
    "    def __init__(self, seqRec, head = 0):\n",
    "        self.seqRec = seqRec\n",
    "        self.starts =  find_posframe( pstart, str( self.seqRec.seq ))\n",
    "        self.stops =  find_posframe(  pstop,   str( self.seqRec.seq ))\n",
    "        self.shift = len(self.seqRec) % 3\n",
    "#         if head:\n",
    "#     def as_head(self):\n",
    "        if head:\n",
    "#             for k,v in self.stops.items():\n",
    "            for k,v in enumerate(self.stops):\n",
    "                mv = max(v)\n",
    "                lst = [x for x in self.starts[k] if x > mv]\n",
    "                if lst:\n",
    "                    self.starts[k] = min(lst)\n",
    "                    self.stops[k] = -1\n",
    "                else:\n",
    "                    self.starts[k] = -1\n",
    "                    self.stops[k] = min(self.stops[k])                \n",
    "        else:\n",
    "#             self.stops = {k:min(v) for k,v in self.stops.items()}\n",
    "            self.stops = [min(v) for v in self.stops]\n",
    "    def __len__(self):\n",
    "        return self.seqRec.__len__()\n",
    "#         self = obj\n",
    "        \n",
    "# print str(segment(fas[0]).seqRec)\n",
    "s1 = segment(fas[0])\n",
    "print len(s1)\n",
    "# print len(s1.seqRec)\n",
    "s1 = segment(fas[1])\n",
    "s2 = segment(fas[2])\n",
    "print s1.starts\n",
    "print s1.stops\n",
    "\n",
    "segs = [segment(fa) for fa in fas]\n",
    "segs[1] = segment(fas[1],head = 1)\n",
    "segs[0] = segment(fas[0],head = 1)\n",
    "#         self.\n"
   ]
  },
  {
   "cell_type": "code",
   "execution_count": 124,
   "metadata": {},
   "outputs": [
    {
     "data": {
      "text/plain": [
       "{0: 0, 1: 124, 2: 155}"
      ]
     },
     "execution_count": 124,
     "metadata": {},
     "output_type": "execute_result"
    }
   ],
   "source": [
    "segs = [segment(fa) for fa in fas]\n",
    "segs[0].stops"
   ]
  },
  {
   "cell_type": "code",
   "execution_count": 101,
   "metadata": {},
   "outputs": [
    {
     "name": "stdout",
     "output_type": "stream",
     "text": [
      "{0: -1, 1: 196, 2: 191}\n",
      "{0: 192, 1: -1, 2: -1}\n"
     ]
    }
   ],
   "source": [
    "segs[1] = segment(fas[1],head = 1)\n",
    "print segs[1].starts\n",
    "print segs[1].stops"
   ]
  },
  {
   "cell_type": "code",
   "execution_count": 303,
   "metadata": {},
   "outputs": [
    {
     "name": "stdout",
     "output_type": "stream",
     "text": [
      "FBgn0004666:1 489\n",
      "FBgn0004666:2 209\n",
      "FBgn0004666:3 152\n",
      "FBgn0004666:4 195\n",
      "FBgn0004666:5 170\n",
      "FBgn0004666:6 102\n",
      "FBgn0004666:7 192\n",
      "FBgn0004666:8 168\n",
      "FBgn0004666:9 200\n",
      "FBgn0004666:10 107\n",
      "FBgn0004666:11 1731\n",
      "\n",
      "3715\n"
     ]
    }
   ],
   "source": [
    "s = 0\n",
    "fas = fas0\n",
    "for fa in fas:\n",
    "    x = fa.__len__()\n",
    "    s += x\n",
    "    print fa.name,x\n",
    "print \"\\n\",s\n"
   ]
  },
  {
   "cell_type": "code",
   "execution_count": 163,
   "metadata": {},
   "outputs": [
    {
     "data": {
      "text/plain": [
       "'ATATAGCCAAAACGTGTGCCATGAAGGAGAAAAGCAAAAATGCGGCACGCACGCGACGTGAAAAGGAAAACACGGAATTCTGTGAATTGGCCAAATTACTGCCGCTGCCGGCGGCGATTACTTCGCAACTGGACAAGGCCTCCGTCATCCGGCTGACCACGTCGTATTTGAAAATGCGCCAAGTCTTTCCCGATG'"
      ]
     },
     "execution_count": 163,
     "metadata": {},
     "output_type": "execute_result"
    }
   ],
   "source": [
    "# fas[3].seq.count(\"CTTTCCCGAT\")\n",
    "fas[3].seq.__str__()"
   ]
  },
  {
   "cell_type": "code",
   "execution_count": 164,
   "metadata": {},
   "outputs": [
    {
     "data": {
      "text/plain": [
       "'GTCTTGGCGAAGCCTGGGGCTCATCGCCTGCCATGCAACGCGGCGCCACCATCAAGGAGCTGGGCTCCCATCTGCTGCAGACGCTGGACGGATTCATCTTCGTGGTGGCTCCGGATGGCAAAATCATGTACATCTCGGAAACGGCCTCCGTGCATTTGGGCCTCAGTCAG'"
      ]
     },
     "execution_count": 164,
     "metadata": {},
     "output_type": "execute_result"
    }
   ],
   "source": [
    "fas[4].seq.__str__()"
   ]
  },
  {
   "cell_type": "code",
   "execution_count": 165,
   "metadata": {},
   "outputs": [
    {
     "data": {
      "text/plain": [
       "'GTTGAGCTGACGGGCAACTCGATATTCGAGTACATACACAACTACGATCAGGACGAGATGAATGCCATTTTGTCGCTGCATCCGCACATCAACCAGCATCCA'"
      ]
     },
     "execution_count": 165,
     "metadata": {},
     "output_type": "execute_result"
    }
   ],
   "source": [
    "fas[5].seq.__str__()"
   ]
  },
  {
   "cell_type": "code",
   "execution_count": 276,
   "metadata": {},
   "outputs": [
    {
     "name": "stdout",
     "output_type": "stream",
     "text": [
      "1995\n"
     ]
    }
   ],
   "source": [
    "cds = '''\n",
    "ATGAAGGAGAA AAGCAAAAAT GCGGCACGCA CGCGACGTGA  550\n",
    "AAAGGAAAAC ACGGAATTCT GTGAATTGGC CAAATTACTG CCGCTGCCGG  600\n",
    "CGGCGATTAC TTCGCAACTG GACAAGGCCT CCGTCATCCG GCTGACCACG  650\n",
    "TCGTATTTGA AAATGCGCCA AGTCTTTCCC GATGGTCTTG GCGAAGCCTG  700\n",
    "GGGCTCATCG CCTGCCATGC AACGCGGCGC CACCATCAAG GAGCTGGGCT  750\n",
    "CCCATCTGCT GCAGACGCTG GACGGATTCA TCTTCGTGGT GGCTCCGGAT  800\n",
    "GGCAAAATCA TGTACATCTC GGAAACGGCC TCCGTGCATT TGGGCCTCAG  850\n",
    "TCAGGTTGAG CTGACGGGCA ACTCGATATT CGAGTACATA CACAACTACG  900\n",
    "ATCAGGACGA GATGAATGCC ATTTTGTCGC TGCATCCGCA CATCAACCAG  950\n",
    "CATCCACTCG CCCAGACGCA CACGCCCATC GGCAGTCCCA ATGGCGTCCA  1000\n",
    "GCATCCATCC GCCTACGACC ACGATCGCGG ATCGCACACC ATCGAGATCG  1050\n",
    "AGAAGACCTT CTTCCTGCGC ATGAAGTGCG TCCTGGCCAA AAGGAACGCG  1100\n",
    "GGCCTCACCA CCTCCGGATT TAAGGTGATA CACTGCTCCG GCTATCTGAA  1150\n",
    "GGCTCGCATC TATCCCGATC GCGGGGATGG ACAGGGCAGC CTCATCCAGA  1200\n",
    "ATCTCGGCCT GGTGGCCGTC GGTCACTCGC TGCCTTCATC CGCCATCACG  1250\n",
    "GAAATCAAGC TGCACCAGAA TATGTTCATG TTCCGGGCCA AGCTGGACAT  1300\n",
    "GAAGCTCATC TTCTTCGATG CACGCGTATC GCAGCTAACA GGATACGAGC  1350\n",
    "CGCAGGACCT CATCGAGAAG ACCCTGTATC AGTATATCCA CGCCGCGGAC  1400\n",
    "ATCATGGCCA TGCGCTGCTC TCATCAAATC CTGCTGTACA AAGGACAAGT  1450\n",
    "GACCACCAAG TACTACCGCT TCCTCACCAA AGGCGGCGGC TGGGTGTGGG  1500\n",
    "TGCAGTCGTA CGCGACACTG GTGCACAATT CGCGATCCTC GCGAGAAGTG  1550\n",
    "TTCATCGTGA GCGTGAACTA TGTGCTGAGC GAACGAGAGG TGAAAGACTT  1600\n",
    "GGTGCTGAAC GAGATTCAGA CGGGCGTTGT GAAGCGGGAG CCCATATCGC  1650\n",
    "CGGCGGCTCA AGCGGCACAG GCAGCTCAAG CGGCCCAAGC GGCCCAAGCG  1700\n",
    "GCACAGGCGG CACAGGCGGC ACATGTGGCT CAAGCGGTGC AGGCCCAGGT  1750\n",
    "GGTGGTGGTG CCCCAGCAGT CGGTGGTGGT GCAGCCGCAG TGCGCCGGAG  1800\n",
    "CAACGGGTCA GCCGGTGGGT CCGGGTACGC CAGTTAGTCT GGCCCTCAGT  1850\n",
    "GCAAGTCCCA AGCTGGATCC GTATTTCGAG CCAGAGCTGC CGCTGCAGCC  1900\n",
    "GGCCGTAACG CCCGTGCCCC CAACGAATAA TAGTAGTAGT AGTAGCAACA  1950\n",
    "ATAACAACGG CGTGTGGCAC CACCATCATG TGCAACAGCA GCAGCAGTCC  2000\n",
    "GGCAGCATGG ATCACGATAG CCTGAGTTAC ACGCAGCTTT ATCCGCCCTT  2050\n",
    "GAACGACCTG GTGGTGAGCT CGAGCAGCAG TGTGGGCGGT GGCACCGCCT  2100\n",
    "CAAGTGCGGG CGGTGGATCC AGTGCGTCGG CCTCGTCCTC CGGCGTTTAC  2150\n",
    "TCCACGGAGA TGCAGTATCC GGACACGACC ACCGGCAACC TGTACTACAA  2200\n",
    "TAACAACAAT CACTATTACT ATGACTACGA TGCGACGGTG GATGTGGCCA  2250\n",
    "CCTCGATGAT ACGCCCATTC TCGGCCAATT CGAATAGCTG CTCGAGCAGT  2300\n",
    "TCGGAGAGCG AAAGGCAGCT GTCCACCGGA AATGCCTCGA TTGTGAACGA  2350\n",
    "AACATCGCCC TCACAGACGA CCTACAGCGA TCTGAGTCAC AACTTCGAGC  2400\n",
    "TGAGCTACTT CTCCGACAAC AGTTCGCAAC AGCATCAGCA TCAGCAGCAG  2450\n",
    "CAGCAGCATC TGATGGAGCA GCAGCATCTG CAATACCAAT ACGCCACCTG  2500\n",
    "GTGA\n",
    "'''\n",
    "re.sub(\"\\d|\\n| \",'',cds)\n",
    "fa = fas[0]\n",
    "# fa.seq\n",
    "fa.seq = Bio.Seq.Seq( re.sub(\"\\d|\\n| \",'',cds), Bio.Alphabet.DNAAlphabet())\n",
    "print fa.seq.__len__()"
   ]
  },
  {
   "cell_type": "code",
   "execution_count": 304,
   "metadata": {},
   "outputs": [
    {
     "name": "stdout",
     "output_type": "stream",
     "text": [
      "FBgn0004666:11\n",
      "[18, 403, 1070]\n",
      "0\n",
      "1731 0\n",
      "[18, 403, 1070]\n",
      "\n",
      "FBgn0004666:10\n",
      "[-1, -1, 11]\n",
      "2\n",
      "107 2\n",
      "[510, 1177, 11]\n",
      "\n",
      "FBgn0004666:9\n",
      "[-1, 1, -1]\n",
      "2\n",
      "200 2\n",
      "[1377, 1, 710]\n",
      "\n",
      "FBgn0004666:7\n",
      "[-1, 139, 188]\n",
      "0\n",
      "192 0\n",
      "[1569, 139, 188]\n",
      "\n",
      "FBgn0004666:6\n",
      "[-1, 7, 2]\n",
      "0\n",
      "102 0\n",
      "[1671, 7, 2]\n",
      "\n",
      "FBgn0004666:5\n",
      "[-1, -1, -1]\n",
      "2\n",
      "170 2\n",
      "[1347, 1240, 1841]\n",
      "\n",
      "FBgn0004666:4\n",
      "[-1, 58, -1]\n",
      "0\n",
      "195 0\n",
      "[1866, 58, 2036]\n",
      "\n",
      "\n",
      "[192, -1, 20]\n",
      "[1866, 58, 2036]\n"
     ]
    }
   ],
   "source": [
    "start = 3\n",
    "fas = fas0[start:]\n",
    "fas = [fas0[x] for x in [3,4,5,6,8,9,10]]\n",
    "segs = [segment(fa) for fa in fas]\n",
    "segs[0] = segment(fas[0],head = 1)\n",
    "msegs = []\n",
    "for seg in segs[::-1]:\n",
    "    print seg.seqRec.name\n",
    "    print seg.stops\n",
    "    print seg.shift\n",
    "#     if len(msegs) == 4:\n",
    "#         print seg.__len__()\n",
    "#         for seg2 in msegs:\n",
    "#             print seg2.stops\n",
    "#             print find_stop(seg,seg2)\n",
    "#             print \n",
    "#         raise(Exception('hi'))\n",
    "    seg.stops = furthest_stop( seg, msegs )\n",
    "    msegs.append(seg)\n",
    "    print seg.__len__(),seg.shift\n",
    "#     print len(msegs)\n",
    "    print seg.stops\n",
    "    print \n",
    "# print seg.stops\n",
    "print \n",
    "print seg.starts \n",
    "print seg.stops\n"
   ]
  },
  {
   "cell_type": "code",
   "execution_count": 318,
   "metadata": {},
   "outputs": [
    {
     "data": {
      "text/plain": [
       "[8, 7, 6, 5, 4, 3, 2, 1, 0]"
      ]
     },
     "execution_count": 318,
     "metadata": {},
     "output_type": "execute_result"
    }
   ],
   "source": [
    "range(9-1,-1,-1)"
   ]
  },
  {
   "cell_type": "code",
   "execution_count": 321,
   "metadata": {},
   "outputs": [
    {
     "name": "stdout",
     "output_type": "stream",
     "text": [
      "FBgn0004666:11\n",
      "[18, 403, 1070]\n",
      "0\n",
      "1731 0\n",
      "[18, 403, 1070]\n",
      "\n",
      "FBgn0004666:10\n",
      "[-1, -1, 11]\n",
      "2\n",
      "107 2\n",
      "[510, 1177, 11]\n",
      "\n",
      "FBgn0004666:9\n",
      "[-1, 1, -1]\n",
      "2\n",
      "200 2\n",
      "[1377, 1, 710]\n",
      "\n",
      "FBgn0004666:8\n",
      "[-1, 115, 164]\n",
      "0\n",
      "168 0\n",
      "[1545, 115, 164]\n",
      "\n",
      "FBgn0004666:6\n",
      "[-1, 7, 2]\n",
      "0\n",
      "102 0\n",
      "[1647, 7, 2]\n",
      "\n",
      "FBgn0004666:5\n",
      "[-1, -1, -1]\n",
      "2\n",
      "170 2\n",
      "[1347, 1240, 1817]\n",
      "\n",
      "FBgn0004666:4\n",
      "[-1, 58, -1]\n",
      "0\n",
      "195 0\n",
      "[1842, 58, 2012]\n",
      "\n",
      "\n",
      "[192, -1, 20]\n",
      "[1842, 58, 2012]\n"
     ]
    }
   ],
   "source": [
    "url = \"http://flybase.org/cgi-bin/getseq.html?source=dmel&id=FBgn0004666&chr=3R&dump=PrecompiledFasta&targetset=exon\"\n",
    "import Bio.SeqIO\n",
    "import urllib\n",
    "# with urllib.urlopen(url) as response:\n",
    "response = urllib.urlopen(url)\n",
    "fas = [x for x in Bio.SeqIO.parse(response,'fasta')]\n",
    "f_ind = lambda seq: int( seq.id.split(':')[-1])\n",
    "fas0 = sorted(fas, key= f_ind)\n",
    "# fas = fas0\n",
    "fas = [fas0[x - 1] for x in [4,5,6,8,9,10,11]]\n",
    "############### test case #################\n",
    "segs = [segment(fa) for fa in fas]\n",
    "segs[0] = segment(fas[0],head = 1)\n",
    "msegs = []\n",
    "for seg in segs[::-1]:\n",
    "    print seg.seqRec.name\n",
    "    print seg.stops\n",
    "    print seg.shift\n",
    "#     if len(msegs) == 4:\n",
    "#         print seg.__len__()\n",
    "#         for seg2 in msegs:\n",
    "#             print seg2.stops\n",
    "#             print find_stop(seg,seg2)\n",
    "#             print \n",
    "#         raise(Exception('hi'))\n",
    "    seg.stops = furthest_stop( seg, msegs )\n",
    "    msegs.append(seg)\n",
    "    print seg.__len__(),seg.shift\n",
    "#     print len(msegs)\n",
    "    print seg.stops\n",
    "    print \n",
    "# print seg.stops\n",
    "print \n",
    "print seg.starts \n",
    "print seg.stops\n",
    "act = max([x - y  for x,y in zip(seg.stops,seg.starts)]) + 2 \n",
    "exp = 1994\n",
    "assert act == exp,\"[FAILED]Expected: %s, Actual:%s\"%(exp,act)\n",
    "# segs.start\n",
    "# print segs[1].starts`\n",
    "# print segs[1].stops"
   ]
  },
  {
   "cell_type": "code",
   "execution_count": 333,
   "metadata": {},
   "outputs": [
    {
     "name": "stdout",
     "output_type": "stream",
     "text": [
      "1731 0\n",
      "[18, 403, 1070]\n",
      "\n",
      "107 2\n",
      "[510, 1177, 11]\n",
      "\n",
      "200 2\n",
      "[1377, 1, 710]\n",
      "\n",
      "168 0\n",
      "[1545, 115, 164]\n",
      "\n",
      "102 0\n",
      "[1647, 7, 2]\n",
      "\n",
      "170 2\n",
      "[1347, 1240, 1817]\n",
      "\n",
      "195 0\n",
      "[3, 58, 2012]\n",
      "\n",
      "\n",
      "[192, -1, 20]\n",
      "[1842, 58, 2012]\n",
      "[18, 403, 1070]\n",
      "[510, 1177, 11]\n",
      "[1377, 1270, 710]\n",
      "[1545, 115, 164]\n",
      "[1647, 1279, 2]\n",
      "[1347, 1240, 1817]\n",
      "[1842, 58, 2012]\n"
     ]
    }
   ],
   "source": [
    "url = \"http://flybase.org/cgi-bin/getseq.html?source=dmel&id=FBgn0004666&chr=3R&dump=PrecompiledFasta&targetset=exon\"\n",
    "import Bio.SeqIO\n",
    "import urllib\n",
    "# with urllib.urlopen(url) as response:\n",
    "response = urllib.urlopen(url)\n",
    "fas = [x for x in Bio.SeqIO.parse(response,'fasta')]\n",
    "f_ind = lambda seq: int( seq.id.split(':')[-1])\n",
    "fas0 = sorted(fas, key= f_ind)\n",
    "# fas = fas0\n",
    "fas = [fas0[x - 1] for x in [4,5,6,8,9,10,11]]\n",
    "############### test case #################\n",
    "segs = [segment(fa) for fa in fas]\n",
    "heads = [segment(fa,head = 1) for fa in fas]\n",
    "# segs[0] = segment(fas[0],head = 1)\n",
    "msegs = []\n",
    "csegs = []\n",
    "# for seg in segs[::-1]:\n",
    "for i in range(len(fas)):\n",
    "    seg = segs[-1-i]\n",
    "    hseg = heads[-1-i]\n",
    "#     print seg.seqRec.name\n",
    "#     print seg.stops\n",
    "#     print seg.shift\n",
    "#     if len(msegs) == 4:\n",
    "#         print seg.__len__()\n",
    "#         for seg2 in msegs:\n",
    "#             print seg2.stops\n",
    "#             print find_stop(seg,seg2)\n",
    "#             print \n",
    "#         raise(Exception('hi'))\n",
    "    seg.stops = furthest_stop( seg, msegs )\n",
    "    hseg.stops = furthest_stop( hseg, msegs )\n",
    "    msegs.append(seg)\n",
    "    csegs.append(hseg)\n",
    "    print seg.__len__(),seg.shift\n",
    "#     print len(msegs)\n",
    "    print seg.stops\n",
    "    print \n",
    "# print seg.stops\n",
    "print \n",
    "print hseg.starts \n",
    "print hseg.stops\n",
    "print '\\n'.join([str(x.stops) for x in csegs])\n",
    "act = max([x - y  for x,y in zip(hseg.stops,hseg.starts)]) + 2 \n",
    "exp = 1994\n",
    "assert act == exp,\"[FAILED]Expected: %s, Actual:%s\"%(exp,act)\n",
    "# segs.start\n",
    "# print segs[1].starts`\n",
    "# print segs[1].stops"
   ]
  },
  {
   "cell_type": "code",
   "execution_count": 330,
   "metadata": {},
   "outputs": [
    {
     "data": {
      "text/plain": [
       "[[18, 403, 1070],\n",
       " [510, 1177, 11],\n",
       " [1377, 1270, 710],\n",
       " [1545, 115, 164],\n",
       " [1737, 139, 188],\n",
       " [1839, 1279, 2],\n",
       " [1347, 1240, 2009],\n",
       " [2034, 58, 2204],\n",
       " [18, 2356, 1991],\n",
       " [192, 2413, 2048],\n",
       " [0, 124, 155]]"
      ]
     },
     "execution_count": 330,
     "metadata": {},
     "output_type": "execute_result"
    }
   ],
   "source": [
    "[x.stops for x in csegs]"
   ]
  },
  {
   "cell_type": "code",
   "execution_count": 189,
   "metadata": {},
   "outputs": [
    {
     "name": "stdout",
     "output_type": "stream",
     "text": [
      "1\n",
      "0\n",
      "0\n",
      "0\n",
      "0\n",
      "0\n",
      "0\n",
      "0\n",
      "0\n",
      "0\n",
      "1\n"
     ]
    }
   ],
   "source": [
    "pt = \" ACGCCACCTG GTGATCCTAA\"\n",
    "pt =   \"CAATACCAAT ACGCCACCTG  GTGA\"\n",
    "# pt = \"ATGAAGGAGAAAAGCAAAAATGCGGCACGCA\"\n",
    "for fa in fas:\n",
    "    print fa.seq.count( pt.replace(\" \",''))"
   ]
  },
  {
   "cell_type": "code",
   "execution_count": 134,
   "metadata": {},
   "outputs": [
    {
     "data": {
      "text/plain": [
       "{0: -1, 1: 100, 2: 134}"
      ]
     },
     "execution_count": 134,
     "metadata": {},
     "output_type": "execute_result"
    }
   ],
   "source": [
    "seg.starts"
   ]
  },
  {
   "cell_type": "code",
   "execution_count": 116,
   "metadata": {},
   "outputs": [
    {
     "data": {
      "text/plain": [
       "{0: 18, 1: 403, 2: 1070}"
      ]
     },
     "execution_count": 116,
     "metadata": {},
     "output_type": "execute_result"
    }
   ],
   "source": [
    "segs = [segment(fa) for fa in fas[start:]]\n",
    "segs[::-1][0].stops"
   ]
  },
  {
   "cell_type": "code",
   "execution_count": 225,
   "metadata": {},
   "outputs": [
    {
     "data": {
      "text/plain": [
       "3"
      ]
     },
     "execution_count": 225,
     "metadata": {},
     "output_type": "execute_result"
    }
   ],
   "source": [
    "max(1,2,3)"
   ]
  },
  {
   "cell_type": "code",
   "execution_count": 237,
   "metadata": {},
   "outputs": [
    {
     "name": "stdout",
     "output_type": "stream",
     "text": [
      "The slowest run took 24.55 times longer than the fastest. This could mean that an intermediate result is being cached.\n",
      "100000 loops, best of 3: 4.27 µs per loop\n",
      "The slowest run took 6.11 times longer than the fastest. This could mean that an intermediate result is being cached.\n",
      "1000000 loops, best of 3: 1.48 µs per loop\n"
     ]
    }
   ],
   "source": [
    "# max((1,2,3),(4,1,2))\n",
    "import numpy as np\n",
    "x = (1,2,3)\n",
    "y = (3,1,5)\n",
    "%timeit np.maximum(x,y) \n",
    "%timeit [max(a,b) if b!=-1 else -1 for a,b in zip(x,y)]"
   ]
  },
  {
   "cell_type": "code",
   "execution_count": 298,
   "metadata": {},
   "outputs": [],
   "source": [
    "def find_stop(seg1,seg2):\n",
    "    if not seg2:\n",
    "        return seg1.stops\n",
    "    stops = seg1.stops[:]\n",
    "#     print \"starting:\",seg1.stops\n",
    "#     print \"receiving:\",seg2.stops,\" shift:\",seg1.shift\n",
    "#     d = {}\n",
    "#     for k,v in seg1.stops.items():\n",
    "    for k,v in enumerate(seg1.stops):\n",
    "        if not v == -1:\n",
    "            continue\n",
    "        else:\n",
    "            stops[k] = seg1.__len__() + seg2.stops[(k  - seg1.shift) % 3]\n",
    "    return stops\n",
    "\n",
    "def furthest_stop(seg1,segs):\n",
    "    max_stop = [0, 0, 0]\n",
    "    if not segs:\n",
    "        return seg1.stops\n",
    "#     cand_stops = [find_stop(seg1, seg2).values() for seg2 in segs]\n",
    "    cand_stops = [find_stop(seg1, seg2) for seg2 in segs]\n",
    "#     print cand_stops\n",
    "    for cand_stop in cand_stops:\n",
    "        max_stop = [max(a,b) if b!=-1 else -1 for a,b in zip(max_stop, cand_stop)]\n",
    "#         print cand_stop,max_stop\n",
    "        \n",
    "#     for seg2 in segs:       \n",
    "#         stops = find_stop(seg1, seg2)\n",
    "#         stops_lst += [stops.values()]\n",
    "#         max()\n",
    "#     fstops = [max(x) for x in zip(stops_lst)]\n",
    "#     return dict(zip([0,1,2],max_stop))\n",
    "    return max_stop\n",
    "\n",
    "#     for k,v in seg1.keys():\n",
    "#         seg1"
   ]
  },
  {
   "cell_type": "code",
   "execution_count": null,
   "metadata": {},
   "outputs": [],
   "source": []
  },
  {
   "cell_type": "code",
   "execution_count": 248,
   "metadata": {},
   "outputs": [
    {
     "data": {
      "text/plain": [
       "{0: -1, 1: 139, 2: 188}"
      ]
     },
     "execution_count": 248,
     "metadata": {},
     "output_type": "execute_result"
    }
   ],
   "source": [
    "segs[-5].stops\n",
    "# find_stop"
   ]
  },
  {
   "cell_type": "code",
   "execution_count": 21,
   "metadata": {},
   "outputs": [
    {
     "data": {
      "text/plain": [
       "[<__main__.segment at 0x7f7dae324050>,\n",
       " <__main__.segment at 0x7f7dae2f8e10>,\n",
       " <__main__.segment at 0x7f7dae7d9f90>,\n",
       " <__main__.segment at 0x7f7dae324610>,\n",
       " <__main__.segment at 0x7f7dae324dd0>,\n",
       " <__main__.segment at 0x7f7dae324e10>,\n",
       " <__main__.segment at 0x7f7dae324d10>,\n",
       " <__main__.segment at 0x7f7dae3243d0>,\n",
       " <__main__.segment at 0x7f7dae324650>,\n",
       " <__main__.segment at 0x7f7dae324210>,\n",
       " <__main__.segment at 0x7f7dae352150>]"
      ]
     },
     "execution_count": 21,
     "metadata": {},
     "output_type": "execute_result"
    }
   ],
   "source": [
    "segs[-1::-1]"
   ]
  },
  {
   "cell_type": "code",
   "execution_count": 29,
   "metadata": {},
   "outputs": [
    {
     "data": {
      "text/plain": [
       "{0: 0, 1: 124, 2: 155}"
      ]
     },
     "execution_count": 29,
     "metadata": {},
     "output_type": "execute_result"
    }
   ],
   "source": [
    "segs[0].stops"
   ]
  },
  {
   "cell_type": "code",
   "execution_count": 36,
   "metadata": {},
   "outputs": [
    {
     "data": {
      "text/plain": [
       "SeqRecord(seq=Seq('ATTGTTCACCCACGTAATAATTTGTTTATTCAAATTAGAAAAATTCTCGATAAT...GCA', SingleLetterAlphabet()), id='<unknown id>', name='<unknown name>', description='<unknown description>', dbxrefs=[])"
      ]
     },
     "execution_count": 36,
     "metadata": {},
     "output_type": "execute_result"
    }
   ],
   "source": [
    "fas[-1].reverse_complement()"
   ]
  },
  {
   "cell_type": "code",
   "execution_count": 51,
   "metadata": {},
   "outputs": [
    {
     "name": "stdout",
     "output_type": "stream",
     "text": [
      "{0: 18, 1: 403, 2: 1070}\n",
      "{0: 1177, 1: 125, 2: 11}\n",
      "{0: 1270, 1: 1, 2: 603}\n",
      "{0: 186, 1: 115, 2: 164}\n",
      "{0: 210, 1: 139, 2: 188}\n",
      "{0: 120, 1: 7, 2: 2}\n",
      "{0: 1240, 1: 188, 2: 573}\n",
      "{0: 3, 1: 58, 2: 1265}\n",
      "{0: 18, 1: 43, 2: 32}\n",
      "{0: 192, 1: 227, 2: 29}\n",
      "{0: 0, 1: 124, 2: 155}\n"
     ]
    },
    {
     "data": {
      "text/plain": [
       "{0: 0, 1: 124, 2: 155}"
      ]
     },
     "execution_count": 51,
     "metadata": {},
     "output_type": "execute_result"
    }
   ],
   "source": [
    "segs = [segment(fa) for fa in fas]\n",
    "msegs = [segs[-1]]\n",
    "for seg in segs[-1::-1]:\n",
    "    seg.stops = furthest_stop( seg, msegs )\n",
    "    msegs.append(seg)\n",
    "    print seg.stops\n",
    "seg.stops\n"
   ]
  },
  {
   "cell_type": "code",
   "execution_count": 56,
   "metadata": {},
   "outputs": [
    {
     "data": {
      "text/plain": [
       "[SeqRecord(seq=Seq('TAGTCACTCATTCGCTCGCCGCCCGCTCGCTGGTTCAGCTGCGCGTCCACGCCG...GAG', SingleLetterAlphabet()), id='FBgn0004666:1', name='FBgn0004666:1', description='FBgn0004666:1 type=exon; loc=3R:13057755..13058243; parent=FBgn0004666,FBtr0082711,FBtr0334614; MD5=11e7e7dfbf81129056e38c394728cf5e; release=r6.17; species=Dmel; length=489;', dbxrefs=[]),\n",
       " SeqRecord(seq=Seq('AGTGTTGGATCAAGTCGCACTGCACCCAGTGACCAAGTCGTCGTCGTCGTTGTA...AAA', SingleLetterAlphabet()), id='FBgn0004666:2', name='FBgn0004666:2', description='FBgn0004666:2 type=exon; loc=3R:13062522..13062730; parent=FBgn0004666,FBtr0334613; MD5=3c91cf3f661220346ba19626c7d877fa; release=r6.17; species=Dmel; length=209;', dbxrefs=[]),\n",
       " SeqRecord(seq=Seq('GGCTCAGTTGCAAACAGGTGATTGCAGGGATATGAGCAAGTGCTGAGAAGGTGC...ATG', SingleLetterAlphabet()), id='FBgn0004666:3', name='FBgn0004666:3', description='FBgn0004666:3 type=exon; loc=3R:13072399..13072550; parent=FBgn0004666,FBtr0082710; MD5=ab0b8578bd622434d153738549192fac; release=r6.17; species=Dmel; length=152;', dbxrefs=[]),\n",
       " SeqRecord(seq=Seq('ATATAGCCAAAACGTGTGCCATGAAGGAGAAAAGCAAAAATGCGGCACGCACGC...ATG', SingleLetterAlphabet()), id='FBgn0004666:4', name='FBgn0004666:4', description='FBgn0004666:4 type=exon; loc=3R:13072662..13072856; parent=FBgn0004666,FBtr0082710,FBtr0082711,FBtr0334613,FBtr0334614; MD5=4f40cdd2932be287561f124798dc9862; release=r6.17; species=Dmel; length=195;', dbxrefs=[]),\n",
       " SeqRecord(seq=Seq('GTCTTGGCGAAGCCTGGGGCTCATCGCCTGCCATGCAACGCGGCGCCACCATCA...CAG', SingleLetterAlphabet()), id='FBgn0004666:5', name='FBgn0004666:5', description='FBgn0004666:5 type=exon; loc=3R:13074080..13074249; parent=FBgn0004666,FBtr0082710,FBtr0082711,FBtr0334613,FBtr0334614; MD5=7728dae1870e44bf322fb547230a0c77; release=r6.17; species=Dmel; length=170;', dbxrefs=[]),\n",
       " SeqRecord(seq=Seq('GTTGAGCTGACGGGCAACTCGATATTCGAGTACATACACAACTACGATCAGGAC...CCA', SingleLetterAlphabet()), id='FBgn0004666:6', name='FBgn0004666:6', description='FBgn0004666:6 type=exon; loc=3R:13074571..13074672; parent=FBgn0004666,FBtr0082710,FBtr0082711,FBtr0334613,FBtr0334614; MD5=314eeec6b3d80d1d595e0308169b4806; release=r6.17; species=Dmel; length=102;', dbxrefs=[]),\n",
       " SeqRecord(seq=Seq('GCCGCCTTTCTCAACTCCCTACAGCTCGCCCAGACGCACACGCCCATCGGCAGT...AAG', SingleLetterAlphabet()), id='FBgn0004666:7', name='FBgn0004666:7', description='FBgn0004666:7 type=exon; loc=3R:13074813..13075004; parent=FBgn0004666,FBtr0334614; MD5=7aa959163150f2066ed885d19b331526; release=r6.17; species=Dmel; length=192;', dbxrefs=[]),\n",
       " SeqRecord(seq=Seq('CTCGCCCAGACGCACACGCCCATCGGCAGTCCCAATGGCGTCCAGCATCCATCC...AAG', SingleLetterAlphabet()), id='FBgn0004666:8', name='FBgn0004666:8', description='FBgn0004666:8 type=exon; loc=3R:13074837..13075004; parent=FBgn0004666,FBtr0082710,FBtr0082711,FBtr0334613; MD5=f04266a3c4cf5248e04d6c43e06c10a6; release=r6.17; species=Dmel; length=168;', dbxrefs=[]),\n",
       " SeqRecord(seq=Seq('GTGATACACTGCTCCGGCTATCTGAAGGCTCGCATCTATCCCGATCGCGGGGAT...ACG', SingleLetterAlphabet()), id='FBgn0004666:9', name='FBgn0004666:9', description='FBgn0004666:9 type=exon; loc=3R:13075077..13075276; parent=FBgn0004666,FBtr0082710,FBtr0082711,FBtr0334613,FBtr0334614; MD5=d61b80f918b9372b5574c813aa10cb3c; release=r6.17; species=Dmel; length=200;', dbxrefs=[]),\n",
       " SeqRecord(seq=Seq('CGTATCGCAGCTAACAGGATACGAGCCGCAGGACCTCATCGAGAAGACCCTGTA...TCC', SingleLetterAlphabet()), id='FBgn0004666:10', name='FBgn0004666:10', description='FBgn0004666:10 type=exon; loc=3R:13076199..13076305; parent=FBgn0004666,FBtr0082710,FBtr0082711,FBtr0334613,FBtr0334614; MD5=c9c7ce973a778ade822b711bcbabfe82; release=r6.17; species=Dmel; length=107;', dbxrefs=[]),\n",
       " SeqRecord(seq=Seq('TGCTGTACAAAGGACAAGTGACCACCAAGTACTACCGCTTCCTCACCAAAGGCG...AAT', SingleLetterAlphabet()), id='FBgn0004666:11', name='FBgn0004666:11', description='FBgn0004666:11 type=exon; loc=3R:13076394..13078124; parent=FBgn0004666,FBtr0082710,FBtr0082711,FBtr0334613,FBtr0334614; MD5=b7afa2bb900016c60e72493d05b1bc06; release=r6.17; species=Dmel; length=1731;', dbxrefs=[])]"
      ]
     },
     "execution_count": 56,
     "metadata": {},
     "output_type": "execute_result"
    }
   ],
   "source": [
    "fas"
   ]
  },
  {
   "cell_type": "code",
   "execution_count": 54,
   "metadata": {},
   "outputs": [],
   "source": [
    "fas[0]\n",
    "from Bio.Seq import Seq\n",
    "from Bio.SeqRecord import SeqRecord\n",
    "from Bio.Alphabet import IUPAC\n",
    "record = SeqRecord(Seq(\"MKQHKAMIVALIVICITAVVAALVTRKDLCEVHIRTGQTEVAVF\",\n",
    "                        IUPAC.protein),\n",
    "                    id=\"YP_025292.1\", name=\"HokC\",\n",
    "                    description=\"toxic membrane protein\")"
   ]
  },
  {
   "cell_type": "code",
   "execution_count": 52,
   "metadata": {},
   "outputs": [
    {
     "name": "stdout",
     "output_type": "stream",
     "text": [
      "{0: 54, 1: 64, 2: 116}\n",
      "{0: 51, 1: 112, 2: 17}\n",
      "{0: 45, 1: -1, 2: 17}\n",
      "{0: 48, 1: 97, 2: -1}\n",
      "{0: 147, 1: 1, 2: 5}\n",
      "{0: -1, 1: 52, 2: 11}\n",
      "{0: 171, 1: 109, 2: 2}\n",
      "{0: -1, 1: 109, 2: 2}\n",
      "{0: 99, 1: 16, 2: 86}\n",
      "{0: 27, 1: 94, 2: 5}\n",
      "{0: 90, 1: 106, 2: 14}\n"
     ]
    }
   ],
   "source": [
    "segs = [segment(fa.reverse_complement()) for fa in fas]\n",
    "for seg in segs:\n",
    "    print seg.stops"
   ]
  },
  {
   "cell_type": "code",
   "execution_count": 50,
   "metadata": {},
   "outputs": [
    {
     "name": "stdout",
     "output_type": "stream",
     "text": [
      "{0: 90, 1: 106, 2: 14}\n",
      "{0: 27, 1: 94, 2: 5}\n",
      "{0: 99, 1: 16, 2: 86}\n",
      "{0: 258, 1: 109, 2: 2}\n",
      "{0: 171, 1: 109, 2: 2}\n",
      "{0: 192, 1: 52, 2: 11}\n",
      "{0: 147, 1: 1, 2: 5}\n",
      "{0: 48, 1: 97, 2: 209}\n",
      "{0: 45, 1: 242, 2: 17}\n",
      "{0: 51, 1: 112, 2: 17}\n",
      "{0: 54, 1: 64, 2: 116}\n"
     ]
    },
    {
     "data": {
      "text/plain": [
       "{0: 54, 1: 64, 2: 116}"
      ]
     },
     "execution_count": 50,
     "metadata": {},
     "output_type": "execute_result"
    }
   ],
   "source": [
    "segs = [segment(fa.reverse_complement()) for fa in fas]\n",
    "msegs = [segs[-1]]\n",
    "for seg in segs[-1::-1]:\n",
    "    seg.stops = furthest_stop( seg, msegs )\n",
    "    msegs.append(seg)\n",
    "    print seg.stops\n",
    "seg.stops\n"
   ]
  },
  {
   "cell_type": "code",
   "execution_count": 13,
   "metadata": {},
   "outputs": [],
   "source": [
    "segs = [segment(fa) for fa in fas]\n",
    "msegs = [segs[-1]]\n",
    "for seg in segs[:-1:-1]:\n",
    "    seg.stops = furthest_stop( seg, msegs )\n",
    "    msegs.append(seg)\n",
    "    print \"seg\" in locals()\n",
    "#     print seg.stops\n",
    "# seg.stops"
   ]
  },
  {
   "cell_type": "code",
   "execution_count": 265,
   "metadata": {},
   "outputs": [
    {
     "data": {
      "text/plain": [
       "{0: 0, 1: 124, 2: 155}"
      ]
     },
     "execution_count": 265,
     "metadata": {},
     "output_type": "execute_result"
    }
   ],
   "source": [
    "seg.stops"
   ]
  },
  {
   "cell_type": "code",
   "execution_count": 251,
   "metadata": {},
   "outputs": [
    {
     "data": {
      "text/plain": [
       "[(0, 191), (1, 139), (2, 188)]"
      ]
     },
     "execution_count": 251,
     "metadata": {},
     "output_type": "execute_result"
    }
   ],
   "source": [
    "furthest_stop(segs[-5],segs[-3:])"
   ]
  },
  {
   "cell_type": "code",
   "execution_count": 1,
   "metadata": {},
   "outputs": [
    {
     "name": "stdout",
     "output_type": "stream",
     "text": [
      "Help on function read in module Bio.SeqIO:\n",
      "\n",
      "read(handle, format, alphabet=None)\n",
      "    Turns a sequence file into a single SeqRecord.\n",
      "    \n",
      "    Arguments:\n",
      "     - handle   - handle to the file, or the filename as a string\n",
      "       (note older versions of Biopython only took a handle).\n",
      "     - format   - string describing the file format.\n",
      "     - alphabet - optional Alphabet object, useful when the sequence type\n",
      "       cannot be automatically inferred from the file itself\n",
      "       (e.g. format=\"fasta\" or \"tab\")\n",
      "    \n",
      "    This function is for use parsing sequence files containing\n",
      "    exactly one record.  For example, reading a GenBank file:\n",
      "    \n",
      "    >>> from Bio import SeqIO\n",
      "    >>> record = SeqIO.read(\"GenBank/arab1.gb\", \"genbank\")\n",
      "    >>> print(\"ID %s\" % record.id)\n",
      "    ID AC007323.5\n",
      "    >>> print(\"Sequence length %i\" % len(record))\n",
      "    Sequence length 86436\n",
      "    >>> print(\"Sequence alphabet %s\" % record.seq.alphabet)\n",
      "    Sequence alphabet IUPACAmbiguousDNA()\n",
      "    \n",
      "    If the handle contains no records, or more than one record,\n",
      "    an exception is raised.  For example:\n",
      "    \n",
      "    >>> from Bio import SeqIO\n",
      "    >>> record = SeqIO.read(\"GenBank/cor6_6.gb\", \"genbank\")\n",
      "    Traceback (most recent call last):\n",
      "        ...\n",
      "    ValueError: More than one record found in handle\n",
      "    \n",
      "    If however you want the first record from a file containing\n",
      "    multiple records this function would raise an exception (as\n",
      "    shown in the example above).  Instead use:\n",
      "    \n",
      "    >>> from Bio import SeqIO\n",
      "    >>> record = next(SeqIO.parse(\"GenBank/cor6_6.gb\", \"genbank\"))\n",
      "    >>> print(\"First record's ID %s\" % record.id)\n",
      "    First record's ID X55053.1\n",
      "    \n",
      "    Use the Bio.SeqIO.parse(handle, format) function if you want\n",
      "    to read multiple records from the handle.\n",
      "\n"
     ]
    }
   ],
   "source": [
    "import Bio.SeqIO.FastaIO\n",
    "# Bio.SeqIO.read(r,'fasta')\n",
    "help(\n",
    "    Bio.SeqIO.read\n",
    ")"
   ]
  }
 ],
 "metadata": {
  "kernelspec": {
   "display_name": "misc",
   "language": "python",
   "name": "misc"
  },
  "language_info": {
   "codemirror_mode": {
    "name": "ipython",
    "version": 2
   },
   "file_extension": ".py",
   "mimetype": "text/x-python",
   "name": "python",
   "nbconvert_exporter": "python",
   "pygments_lexer": "ipython2",
   "version": "2.7.6"
  }
 },
 "nbformat": 4,
 "nbformat_minor": 2
}
